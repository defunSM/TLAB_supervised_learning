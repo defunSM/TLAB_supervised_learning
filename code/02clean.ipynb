{
 "cells": [
  {
   "cell_type": "code",
   "execution_count": 70,
   "metadata": {},
   "outputs": [],
   "source": [
    "import pandas as pd\n",
    "from sklearn.utils import resample"
   ]
  },
  {
   "cell_type": "code",
   "execution_count": 71,
   "metadata": {},
   "outputs": [],
   "source": [
    "# raw data without any cleaning\n",
    "RAW_DATA_FILEPATH = '../data/raw/data.csv'\n",
    "\n",
    "# dropped unnessary columns\n",
    "MODEL_DATA_FILEPATH = '../data/processed/model_data.csv'\n",
    "\n",
    "# rebalanced data\n",
    "BALANCED_DATA_FILEPATH = '../data/processed/balanced_data.csv'\n",
    "\n",
    "# rebalanced and hot encoded the type column\n",
    "ENCODED_DATA_FILEPATH = '../data/processed/encoded_data.csv'\n"
   ]
  },
  {
   "cell_type": "code",
   "execution_count": 72,
   "metadata": {},
   "outputs": [],
   "source": [
    "df = pd.read_csv(RAW_DATA_FILEPATH)"
   ]
  },
  {
   "cell_type": "code",
   "execution_count": 73,
   "metadata": {},
   "outputs": [
    {
     "data": {
      "text/plain": [
       "Index(['step', 'type', 'amount', 'nameOrig', 'oldbalanceOrg', 'newbalanceOrig',\n",
       "       'nameDest', 'oldbalanceDest', 'newbalanceDest', 'isFraud',\n",
       "       'isFlaggedFraud'],\n",
       "      dtype='object')"
      ]
     },
     "execution_count": 73,
     "metadata": {},
     "output_type": "execute_result"
    }
   ],
   "source": [
    "# check the columns on the dataset\n",
    "df.columns"
   ]
  },
  {
   "cell_type": "code",
   "execution_count": 74,
   "metadata": {},
   "outputs": [
    {
     "data": {
      "text/plain": [
       "isFraud\n",
       "0    6354407\n",
       "1       8213\n",
       "Name: count, dtype: int64"
      ]
     },
     "execution_count": 74,
     "metadata": {},
     "output_type": "execute_result"
    }
   ],
   "source": [
    "# Taking a look at how many transactions are fraud\n",
    "df['isFraud'].value_counts()\n"
   ]
  },
  {
   "cell_type": "code",
   "execution_count": 75,
   "metadata": {},
   "outputs": [],
   "source": [
    "# drop columns not needed for training model\n",
    "clean_df = df.drop(['step', 'nameDest', 'nameOrig', 'isFlaggedFraud'], axis=1)\n",
    "clean_df.to_csv(MODEL_DATA_FILEPATH, index=False)"
   ]
  },
  {
   "cell_type": "code",
   "execution_count": 76,
   "metadata": {},
   "outputs": [],
   "source": [
    "# seperate into fraud and nonfraud transactions\n",
    "df_fraud = clean_df[clean_df['isFraud']==1]\n",
    "df_nonfraud = clean_df[clean_df['isFraud']==0]"
   ]
  },
  {
   "cell_type": "code",
   "execution_count": 77,
   "metadata": {},
   "outputs": [
    {
     "name": "stdout",
     "output_type": "stream",
     "text": [
      "8213\n"
     ]
    }
   ],
   "source": [
    "# need this later when undersampling\n",
    "NUMBER_OF_FRAUD_TRANSACTIONS = len(df_fraud)\n",
    "print(NUMBER_OF_FRAUD_TRANSACTIONS)"
   ]
  },
  {
   "cell_type": "markdown",
   "metadata": {},
   "source": [
    "## Drop Columns \n",
    "\n",
    "Drop 3 columns: step, nameDest and nameOrig since we do not need the names of the transaction columns for training our model. Another thing we will have to do is rebalance our dataset so that majority of our data is non-fraudlent otherwise the model might just label everything as not fraudulent and still have a high accuracy.\n",
    "\n",
    "Additionally the model does not need the naive model column isFlaggedFraud that can be removed.\n",
    "\n",
    "## Rebalance\n",
    "There are two different approaches we acn take to rebalanced the dataset:\n",
    "\n",
    "Oversampling or undersampling each with different advantages or disadvantage. We will go with undersampling to avoid overfitting our model this will mean we will be removing some of our non-fraudlent data."
   ]
  },
  {
   "cell_type": "code",
   "execution_count": 78,
   "metadata": {},
   "outputs": [
    {
     "name": "stdout",
     "output_type": "stream",
     "text": [
      "isFraud\n",
      "1    8213\n",
      "0    8213\n",
      "Name: count, dtype: int64\n"
     ]
    }
   ],
   "source": [
    "\n",
    "\n",
    "\n",
    "# undersample the nonfraud transactions\n",
    "df_undersampled_nonfraud = resample(df_nonfraud, \n",
    "                                    replace=False,\n",
    "                                    n_samples=NUMBER_OF_FRAUD_TRANSACTIONS,\n",
    "                                    random_state=42)\n",
    "\n",
    "# combine both nonfraud and fraud transactions\n",
    "df_rebalanced = pd.concat([df_fraud, df_undersampled_nonfraud])\n",
    "\n",
    "# Check to see the dataset has been rebalanced\n",
    "print(df_rebalanced['isFraud'].value_counts())"
   ]
  },
  {
   "cell_type": "code",
   "execution_count": 79,
   "metadata": {},
   "outputs": [
    {
     "data": {
      "text/html": [
       "<div>\n",
       "<style scoped>\n",
       "    .dataframe tbody tr th:only-of-type {\n",
       "        vertical-align: middle;\n",
       "    }\n",
       "\n",
       "    .dataframe tbody tr th {\n",
       "        vertical-align: top;\n",
       "    }\n",
       "\n",
       "    .dataframe thead th {\n",
       "        text-align: right;\n",
       "    }\n",
       "</style>\n",
       "<table border=\"1\" class=\"dataframe\">\n",
       "  <thead>\n",
       "    <tr style=\"text-align: right;\">\n",
       "      <th></th>\n",
       "      <th>type</th>\n",
       "      <th>amount</th>\n",
       "      <th>oldbalanceOrg</th>\n",
       "      <th>newbalanceOrig</th>\n",
       "      <th>oldbalanceDest</th>\n",
       "      <th>newbalanceDest</th>\n",
       "      <th>isFraud</th>\n",
       "    </tr>\n",
       "  </thead>\n",
       "  <tbody>\n",
       "    <tr>\n",
       "      <th>2</th>\n",
       "      <td>TRANSFER</td>\n",
       "      <td>181.00</td>\n",
       "      <td>181.00</td>\n",
       "      <td>0.00</td>\n",
       "      <td>0.00</td>\n",
       "      <td>0.00</td>\n",
       "      <td>1</td>\n",
       "    </tr>\n",
       "    <tr>\n",
       "      <th>3</th>\n",
       "      <td>CASH_OUT</td>\n",
       "      <td>181.00</td>\n",
       "      <td>181.00</td>\n",
       "      <td>0.00</td>\n",
       "      <td>21182.00</td>\n",
       "      <td>0.00</td>\n",
       "      <td>1</td>\n",
       "    </tr>\n",
       "    <tr>\n",
       "      <th>251</th>\n",
       "      <td>TRANSFER</td>\n",
       "      <td>2806.00</td>\n",
       "      <td>2806.00</td>\n",
       "      <td>0.00</td>\n",
       "      <td>0.00</td>\n",
       "      <td>0.00</td>\n",
       "      <td>1</td>\n",
       "    </tr>\n",
       "    <tr>\n",
       "      <th>252</th>\n",
       "      <td>CASH_OUT</td>\n",
       "      <td>2806.00</td>\n",
       "      <td>2806.00</td>\n",
       "      <td>0.00</td>\n",
       "      <td>26202.00</td>\n",
       "      <td>0.00</td>\n",
       "      <td>1</td>\n",
       "    </tr>\n",
       "    <tr>\n",
       "      <th>680</th>\n",
       "      <td>TRANSFER</td>\n",
       "      <td>20128.00</td>\n",
       "      <td>20128.00</td>\n",
       "      <td>0.00</td>\n",
       "      <td>0.00</td>\n",
       "      <td>0.00</td>\n",
       "      <td>1</td>\n",
       "    </tr>\n",
       "    <tr>\n",
       "      <th>...</th>\n",
       "      <td>...</td>\n",
       "      <td>...</td>\n",
       "      <td>...</td>\n",
       "      <td>...</td>\n",
       "      <td>...</td>\n",
       "      <td>...</td>\n",
       "      <td>...</td>\n",
       "    </tr>\n",
       "    <tr>\n",
       "      <th>4779354</th>\n",
       "      <td>CASH_OUT</td>\n",
       "      <td>265820.49</td>\n",
       "      <td>0.00</td>\n",
       "      <td>0.00</td>\n",
       "      <td>899770.81</td>\n",
       "      <td>1165591.30</td>\n",
       "      <td>0</td>\n",
       "    </tr>\n",
       "    <tr>\n",
       "      <th>1913121</th>\n",
       "      <td>CASH_IN</td>\n",
       "      <td>186719.44</td>\n",
       "      <td>159.00</td>\n",
       "      <td>186878.44</td>\n",
       "      <td>0.00</td>\n",
       "      <td>0.00</td>\n",
       "      <td>0</td>\n",
       "    </tr>\n",
       "    <tr>\n",
       "      <th>1989584</th>\n",
       "      <td>CASH_OUT</td>\n",
       "      <td>136972.48</td>\n",
       "      <td>0.00</td>\n",
       "      <td>0.00</td>\n",
       "      <td>1140442.13</td>\n",
       "      <td>1277414.61</td>\n",
       "      <td>0</td>\n",
       "    </tr>\n",
       "    <tr>\n",
       "      <th>3085033</th>\n",
       "      <td>PAYMENT</td>\n",
       "      <td>9935.66</td>\n",
       "      <td>286287.65</td>\n",
       "      <td>276351.98</td>\n",
       "      <td>0.00</td>\n",
       "      <td>0.00</td>\n",
       "      <td>0</td>\n",
       "    </tr>\n",
       "    <tr>\n",
       "      <th>4712423</th>\n",
       "      <td>PAYMENT</td>\n",
       "      <td>691.16</td>\n",
       "      <td>0.00</td>\n",
       "      <td>0.00</td>\n",
       "      <td>0.00</td>\n",
       "      <td>0.00</td>\n",
       "      <td>0</td>\n",
       "    </tr>\n",
       "  </tbody>\n",
       "</table>\n",
       "<p>16426 rows × 7 columns</p>\n",
       "</div>"
      ],
      "text/plain": [
       "             type     amount  oldbalanceOrg  newbalanceOrig  oldbalanceDest  \\\n",
       "2        TRANSFER     181.00         181.00            0.00            0.00   \n",
       "3        CASH_OUT     181.00         181.00            0.00        21182.00   \n",
       "251      TRANSFER    2806.00        2806.00            0.00            0.00   \n",
       "252      CASH_OUT    2806.00        2806.00            0.00        26202.00   \n",
       "680      TRANSFER   20128.00       20128.00            0.00            0.00   \n",
       "...           ...        ...            ...             ...             ...   \n",
       "4779354  CASH_OUT  265820.49           0.00            0.00       899770.81   \n",
       "1913121   CASH_IN  186719.44         159.00       186878.44            0.00   \n",
       "1989584  CASH_OUT  136972.48           0.00            0.00      1140442.13   \n",
       "3085033   PAYMENT    9935.66      286287.65       276351.98            0.00   \n",
       "4712423   PAYMENT     691.16           0.00            0.00            0.00   \n",
       "\n",
       "         newbalanceDest  isFraud  \n",
       "2                  0.00        1  \n",
       "3                  0.00        1  \n",
       "251                0.00        1  \n",
       "252                0.00        1  \n",
       "680                0.00        1  \n",
       "...                 ...      ...  \n",
       "4779354      1165591.30        0  \n",
       "1913121            0.00        0  \n",
       "1989584      1277414.61        0  \n",
       "3085033            0.00        0  \n",
       "4712423            0.00        0  \n",
       "\n",
       "[16426 rows x 7 columns]"
      ]
     },
     "execution_count": 79,
     "metadata": {},
     "output_type": "execute_result"
    }
   ],
   "source": [
    "df_rebalanced"
   ]
  },
  {
   "cell_type": "code",
   "execution_count": 80,
   "metadata": {},
   "outputs": [],
   "source": [
    "# save rebalanced dataset\n",
    "\n",
    "df_rebalanced.to_csv(BALANCED_DATA_FILEPATH, index=False)"
   ]
  },
  {
   "cell_type": "markdown",
   "metadata": {},
   "source": [
    "Encoding the categorical column using one hot encoding instead of label encoding since the payment type doesn't have an order to them."
   ]
  },
  {
   "cell_type": "code",
   "execution_count": 81,
   "metadata": {},
   "outputs": [
    {
     "name": "stdout",
     "output_type": "stream",
     "text": [
      "            amount  oldbalanceOrg  newbalanceOrig  oldbalanceDest  \\\n",
      "2           181.00         181.00            0.00            0.00   \n",
      "3           181.00         181.00            0.00        21182.00   \n",
      "251        2806.00        2806.00            0.00            0.00   \n",
      "252        2806.00        2806.00            0.00        26202.00   \n",
      "680       20128.00       20128.00            0.00            0.00   \n",
      "...            ...            ...             ...             ...   \n",
      "4779354  265820.49           0.00            0.00       899770.81   \n",
      "1913121  186719.44         159.00       186878.44            0.00   \n",
      "1989584  136972.48           0.00            0.00      1140442.13   \n",
      "3085033    9935.66      286287.65       276351.98            0.00   \n",
      "4712423     691.16           0.00            0.00            0.00   \n",
      "\n",
      "         newbalanceDest  isFraud  type_CASH_IN  type_CASH_OUT  type_DEBIT  \\\n",
      "2                  0.00        1             0              0           0   \n",
      "3                  0.00        1             0              1           0   \n",
      "251                0.00        1             0              0           0   \n",
      "252                0.00        1             0              1           0   \n",
      "680                0.00        1             0              0           0   \n",
      "...                 ...      ...           ...            ...         ...   \n",
      "4779354      1165591.30        0             0              1           0   \n",
      "1913121            0.00        0             1              0           0   \n",
      "1989584      1277414.61        0             0              1           0   \n",
      "3085033            0.00        0             0              0           0   \n",
      "4712423            0.00        0             0              0           0   \n",
      "\n",
      "         type_PAYMENT  type_TRANSFER  \n",
      "2                   0              1  \n",
      "3                   0              0  \n",
      "251                 0              1  \n",
      "252                 0              0  \n",
      "680                 0              1  \n",
      "...               ...            ...  \n",
      "4779354             0              0  \n",
      "1913121             0              0  \n",
      "1989584             0              0  \n",
      "3085033             1              0  \n",
      "4712423             1              0  \n",
      "\n",
      "[16426 rows x 11 columns]\n"
     ]
    }
   ],
   "source": [
    "# Perform One-Hot Encoding with true and false replaced as 1 and 0\n",
    "df_encoded = pd.get_dummies(df_rebalanced, columns=['type']).replace({True: 1, False: 0})\n",
    "print(df_encoded)"
   ]
  },
  {
   "cell_type": "code",
   "execution_count": 82,
   "metadata": {},
   "outputs": [],
   "source": [
    "df_encoded.to_csv(ENCODED_DATA_FILEPATH, index=False)"
   ]
  }
 ],
 "metadata": {
  "kernelspec": {
   "display_name": "Python 3",
   "language": "python",
   "name": "python3"
  },
  "language_info": {
   "codemirror_mode": {
    "name": "ipython",
    "version": 3
   },
   "file_extension": ".py",
   "mimetype": "text/x-python",
   "name": "python",
   "nbconvert_exporter": "python",
   "pygments_lexer": "ipython3",
   "version": "3.11.7"
  }
 },
 "nbformat": 4,
 "nbformat_minor": 2
}
